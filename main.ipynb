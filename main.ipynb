{
 "cells": [
  {
   "cell_type": "code",
   "execution_count": 1,
   "id": "5a5f1696",
   "metadata": {},
   "outputs": [],
   "source": [
    "from torchvision import transforms\n",
    "from torchvision.datasets import MNIST\n",
    "from torch.utils.data import DataLoader\n",
    "from datetime import datetime\n",
    "from tqdm import tqdm\n",
    "import torch.nn as nn\n",
    "import numpy as np\n",
    "import os\n",
    "import torch\n",
    "import mlflow\n",
    "import random"
   ]
  },
  {
   "cell_type": "code",
   "execution_count": 2,
   "id": "da58eae7",
   "metadata": {},
   "outputs": [],
   "source": [
    "# conf.\n",
    "EXPERIMENT_NAME = \"MNIST with CNN v.5\"\n",
    "TRACKING_URL = \"http://localhost:5500\"\n",
    "RUN_NAME = f\"run_{datetime.now().strftime('%Y%m%d_%H%M%S')}\"\n",
    "RUN_DESCRIPTION = \"Trains using the best parameter settings based on 1-epoch validation accuracy (dropout, batch size, learning rate, gamma, step, weight decay).\""
   ]
  },
  {
   "cell_type": "code",
   "execution_count": 3,
   "id": "65fd046d",
   "metadata": {},
   "outputs": [],
   "source": [
    "def seed_everything(seed: int) -> None:\n",
    "    \"\"\"\n",
    "    Sets random seeds for reproducibility across random, numpy, and PyTorch.\n",
    "    \"\"\"\n",
    "    random.seed(seed)\n",
    "    np.random.seed(seed)\n",
    "    torch.manual_seed(seed)\n",
    "\n",
    "    if torch.cuda.is_available():\n",
    "        torch.cuda.manual_seed(seed)\n",
    "        torch.cuda.manual_seed_all(seed)  # if you are using multi-GPU"
   ]
  },
  {
   "cell_type": "code",
   "execution_count": 4,
   "id": "b070f223",
   "metadata": {},
   "outputs": [],
   "source": [
    "class ConvNeuralNet(nn.Module):\n",
    "    \"\"\"\n",
    "    A convolutional neural network for image classification.\n",
    "\n",
    "    Architecture:\n",
    "    - Two convolutional blocks with ReLU, MaxPool and Dropout.\n",
    "    - Fully connected classifier with two hidden layers and dropout.\n",
    "    - Outputs class logits (e.g. for CrossEntropyLoss).\n",
    "    \"\"\"\n",
    "\n",
    "    def __init__(self, dropout1=0.5, dropout2=0.25):\n",
    "        super().__init__()\n",
    "        self.conv_block1 = nn.Sequential(\n",
    "            nn.Conv2d(1, 32, kernel_size=5, padding=2),\n",
    "            nn.ReLU(),\n",
    "            nn.Conv2d(32, 32, kernel_size=5, padding=2),\n",
    "            nn.ReLU(),\n",
    "            nn.MaxPool2d(kernel_size=2),\n",
    "            nn.Dropout(p=dropout2),\n",
    "        )\n",
    "\n",
    "        self.conv_block2 = nn.Sequential(\n",
    "            nn.Conv2d(32, 64, kernel_size=3, padding=1),\n",
    "            nn.ReLU(),\n",
    "            nn.Conv2d(64, 64, kernel_size=3, padding=1),\n",
    "            nn.ReLU(),\n",
    "            nn.MaxPool2d(kernel_size=2, stride=2),\n",
    "            nn.Dropout(p=dropout2),\n",
    "        )\n",
    "\n",
    "        self.classifier1 = nn.Sequential(\n",
    "            nn.Flatten(),\n",
    "            nn.Linear(64 * 7 * 7, 256),\n",
    "            nn.ReLU(),\n",
    "            nn.Dropout(p=dropout1),\n",
    "            nn.Linear(256, 10),\n",
    "        )\n",
    "\n",
    "        self.classifier = nn.Sequential(\n",
    "            nn.Flatten(),\n",
    "            nn.Linear(64 * 7 * 7, 512),\n",
    "            nn.ReLU(),\n",
    "            nn.Dropout(0.5),\n",
    "            nn.Linear(512, 128),\n",
    "            nn.ReLU(),\n",
    "            nn.Dropout(p=dropout1),\n",
    "            nn.Linear(128, 10),\n",
    "        )\n",
    "\n",
    "    def forward(self, x):\n",
    "        x = self.conv_block1(x)\n",
    "        x = self.conv_block2(x)\n",
    "        x = self.classifier(x)\n",
    "        return x"
   ]
  },
  {
   "cell_type": "code",
   "execution_count": 5,
   "id": "cd8130f5",
   "metadata": {},
   "outputs": [],
   "source": [
    "def select_device():\n",
    "    if torch.cuda.is_available():\n",
    "        return \"cuda\"\n",
    "    elif torch.backends.mps.is_available():\n",
    "        return \"mps\"\n",
    "    else:\n",
    "        return \"cpu\""
   ]
  },
  {
   "cell_type": "code",
   "execution_count": 6,
   "id": "e31927af",
   "metadata": {},
   "outputs": [],
   "source": [
    "def save_and_log_model_checkpoint(model, path, artifact_dir):\n",
    "    os.makedirs(os.path.dirname(path), exist_ok=True)\n",
    "    torch.save(model.state_dict(), path)\n",
    "    mlflow.log_artifact(path, artifact_path=artifact_dir)"
   ]
  },
  {
   "cell_type": "code",
   "execution_count": 7,
   "id": "5f356393",
   "metadata": {},
   "outputs": [],
   "source": [
    "def run_training_pipeline(params=None):\n",
    "    \"\"\"Log model architecture parameters.\"\"\"\n",
    "\n",
    "    default_params = {\n",
    "        \"epochs\": 100,                 # total training epochs\n",
    "        \"scheduler_step\": 1,           # step interval for learning rate scheduler\n",
    "        \"scheduler_gamma\": 0.9,        # decay factor for learning rate\n",
    "        \"learning_rate\": 0.001,        # initial learning rate\n",
    "        \"weight_decay\": 0.00001,       # L2 regularization strength\n",
    "        \"batch_size\": 128,             # samples per batch\n",
    "        \"num_workers\": 4,              # data loading workers\n",
    "        \"dropout1\": 0.5,               # dropout rate for first dropout layer\n",
    "        \"dropout2\": 0.25,              # dropout rate for second dropout layer\n",
    "        \"patience\": 10,                 # epochs to wait for improvement before early stopping\n",
    "        \"min_delta\": 0.0001,           # minimum loss improvement to reset early stopping\n",
    "        \"min_save_accuracy\": 99.5,     # minimum accuracy required to save checkpoint\n",
    "    }\n",
    "\n",
    "    # update with custom parameters\n",
    "    if params is not None:\n",
    "        default_params.update(params)\n",
    "\n",
    "    # extract parameters\n",
    "    epochs = default_params[\"epochs\"]\n",
    "    scheduler_step = default_params[\"scheduler_step\"]\n",
    "    scheduler_gamma = default_params[\"scheduler_gamma\"]\n",
    "    learning_rate = default_params[\"learning_rate\"]\n",
    "    weight_decay = default_params[\"weight_decay\"]\n",
    "    batch_size = default_params[\"batch_size\"]\n",
    "    num_workers = default_params[\"num_workers\"]\n",
    "    dropout1 = default_params[\"dropout1\"]\n",
    "    dropout2 = default_params[\"dropout2\"]\n",
    "    patience = default_params[\"patience\"]\n",
    "    min_delta = default_params[\"min_delta\"]\n",
    "    min_save_accuracy = default_params[\"min_save_accuracy\"]\n",
    "\n",
    "    # set up model, optimizer, scheduler and data transforms\n",
    "    device = select_device()\n",
    "    model = ConvNeuralNet().to(device)\n",
    "    criterion = nn.CrossEntropyLoss()\n",
    "    optimizer = torch.optim.Adam(model.parameters(), lr=learning_rate, weight_decay=weight_decay)\n",
    "    scheduler = torch.optim.lr_scheduler.StepLR(optimizer=optimizer, step_size=scheduler_step, gamma=scheduler_gamma)\n",
    "\n",
    "    transform = transforms.Compose([\n",
    "        transforms.RandomRotation(12), \n",
    "        transforms.RandomResizedCrop(28, scale=(0.9, 1.0)),\n",
    "        transforms.RandomAffine(degrees=0, translate=(0.1, 0.1)),\n",
    "        transforms.ToTensor(),\n",
    "    ])\n",
    "\n",
    "    # load the MNIST dataset and prepare DataLoaders for training and validation\n",
    "    train_dataset = MNIST(root=\".\", train=True, transform=transform, download=True)\n",
    "    train_loader = DataLoader(train_dataset, batch_size=batch_size, shuffle=True, num_workers=num_workers)\n",
    "    val_dataset = MNIST(root=\".\", train=False, transform=transforms.ToTensor(), download=True)\n",
    "    val_loader = DataLoader(val_dataset, batch_size=batch_size, num_workers=num_workers)\n",
    "\n",
    "    # set up and start the MLflow experiment run\n",
    "    mlflow.set_tracking_uri(TRACKING_URL)\n",
    "    mlflow.set_experiment(EXPERIMENT_NAME)\n",
    "\n",
    "    with mlflow.start_run(run_name=RUN_NAME):\n",
    "        run_id = mlflow.active_run().info.run_id\n",
    "        client = mlflow.tracking.MlflowClient()\n",
    "        client.set_tag(run_id, \"mlflow.note.content\", RUN_DESCRIPTION)\n",
    "\n",
    "        # log the parameters\n",
    "        all_params = {\n",
    "            \"model_summary\": str(model),\n",
    "            \"criterion\": \"CrossEntropyLoss\",\n",
    "            \"optimizer\": \"ADAM\",\n",
    "            \"scheduler_step\": scheduler_step,\n",
    "            \"scheduler_gamma\": scheduler_gamma,\n",
    "            \"learning_rate\": learning_rate,\n",
    "            \"weight_decay\": weight_decay,\n",
    "            \"batch_size\": batch_size,\n",
    "            \"data_loader_workers\": num_workers,\n",
    "            \"dropout1\": dropout1,\n",
    "            \"dropout2\": dropout2,\n",
    "            \"patience\": patience,\n",
    "            \"min_save_accuracy\": min_save_accuracy,\n",
    "        }\n",
    "        mlflow.log_params(all_params)\n",
    "\n",
    "        # initialize early stopping counter and best validation loss\n",
    "        early_stop_counter, best_val_loss = 0, float(\"inf\")\n",
    "\n",
    "        for epoch in range(1, epochs + 1):\n",
    "            total_train_loss, total_train_correct, total_train_samples = 0, 0, 0\n",
    "            total_val_loss, total_val_correct, total_val_samples = 0, 0, 0\n",
    "\n",
    "            model.train()\n",
    "            for imgs, labels in tqdm(train_loader, desc=f\"Epoch {epoch}/{epochs}\"):\n",
    "                imgs, labels = imgs.to(device), labels.to(device)\n",
    "\n",
    "                optimizer.zero_grad()\n",
    "                outputs = model(imgs)\n",
    "                loss = criterion(outputs, labels)\n",
    "                loss.backward()\n",
    "                optimizer.step()\n",
    "\n",
    "                total_train_loss += loss.item()\n",
    "                preds = outputs.argmax(1)\n",
    "                total_train_correct += (preds == labels).sum().item()\n",
    "                total_train_samples += labels.size(0)\n",
    "\n",
    "            avg_train_loss = total_train_loss / len(train_loader)\n",
    "            train_accuracy = 100 * total_train_correct / total_train_samples\n",
    "\n",
    "            model.eval()\n",
    "            with torch.no_grad():\n",
    "                for imgs, labels in val_loader:\n",
    "                    imgs, labels = imgs.to(device), labels.to(device)\n",
    "                    outputs = model(imgs)\n",
    "                    loss = criterion(outputs, labels)\n",
    "\n",
    "                    total_val_loss += loss.item()\n",
    "                    preds = outputs.argmax(1)\n",
    "                    total_val_correct += (preds == labels).sum().item()\n",
    "                    total_val_samples += labels.size(0)\n",
    "\n",
    "            val_loss = total_val_loss / len(val_loader)\n",
    "            val_accuracy = 100 * total_val_correct / total_val_samples\n",
    "\n",
    "            print(f\"Epoch {epoch}: val_loss={val_loss:.4f}, val_acc={val_accuracy:.2f}\")\n",
    "\n",
    "            # log to MLflow\n",
    "            mlflow.log_metrics(\n",
    "                {\n",
    "                    \"loss/train\": avg_train_loss,\n",
    "                    \"loss/validate\": val_loss,\n",
    "                    \"accuracy/train\": train_accuracy,\n",
    "                    \"accuracy/validate\": val_accuracy,\n",
    "                },\n",
    "                step=epoch,\n",
    "            )\n",
    "            scheduler.step()\n",
    "\n",
    "            \n",
    "            if (best_val_loss - val_loss) >= min_delta: # significant improvement\n",
    "                best_val_loss = val_loss\n",
    "                early_stop_counter = 0\n",
    "                best_model_path = f\"ml_models/{EXPERIMENT_NAME}/{RUN_NAME}/best_model.pt\"\n",
    "                save_and_log_model_checkpoint(model, best_model_path, artifact_dir=\"best_model\")\n",
    "            else:\n",
    "                early_stop_counter += 1\n",
    "            \n",
    "            if (val_accuracy >= min_save_accuracy and epoch % 3 == 0): # periodic checkpoint\n",
    "                checkpoint_path = f\"ml_models/{EXPERIMENT_NAME}/{RUN_NAME}/epoch_{epoch}.pt\"\n",
    "                save_and_log_model_checkpoint(model, checkpoint_path, artifact_dir=\"checkpoints\")\n",
    "            \n",
    "            if early_stop_counter >= patience: # stop if no significant improvement\n",
    "                last_model_path = f\"ml_models/{EXPERIMENT_NAME}/{RUN_NAME}/epoch_{epoch}.pt\"\n",
    "                save_and_log_model_checkpoint(model, last_model_path, artifact_dir=\"last_model\")\n",
    "                print(f\"Early stopping triggered after {epoch} epochs! No improvement for {patience} epochs.\")\n",
    "                break\n",
    "            \n",
    "            if epoch == epochs: # save model at final epoch\n",
    "                last_model_path = f\"ml_models/{EXPERIMENT_NAME}/{RUN_NAME}/epoch_{epoch}.pt\"\n",
    "                save_and_log_model_checkpoint(model, last_model_path, artifact_dir=\"last_model\")"
   ]
  },
  {
   "cell_type": "code",
   "execution_count": 8,
   "id": "d9dacd8a",
   "metadata": {},
   "outputs": [
    {
     "name": "stdout",
     "output_type": "stream",
     "text": [
      "==================================================\n",
      "MNIST WITH CNN V.5 RUN NAME:  RUN_20250424_135605\n",
      "==================================================\n",
      "\n",
      "[RUN] Training config 1/3: {'epochs': 100, 'dropout1': 0.3, 'dropout2': 0.2, 'batch_size': 128, 'learning_rate': 0.001, 'scheduler_gamma': 0.8, 'scheduler_step': 2, 'weight_decay': 0.0001}\n"
     ]
    },
    {
     "name": "stderr",
     "output_type": "stream",
     "text": [
      "2025/04/24 13:56:23 INFO mlflow.tracking.fluent: Experiment with name 'MNIST with CNN v.5' does not exist. Creating a new experiment.\n",
      "Epoch 1/100: 100%|██████████| 469/469 [00:19<00:00, 24.40it/s]\n"
     ]
    },
    {
     "name": "stdout",
     "output_type": "stream",
     "text": [
      "Epoch 1: val_loss=0.0627, val_acc=97.92\n"
     ]
    },
    {
     "name": "stderr",
     "output_type": "stream",
     "text": [
      "Epoch 2/100: 100%|██████████| 469/469 [00:17<00:00, 26.51it/s]\n"
     ]
    },
    {
     "name": "stdout",
     "output_type": "stream",
     "text": [
      "Epoch 2: val_loss=0.0340, val_acc=98.82\n"
     ]
    },
    {
     "name": "stderr",
     "output_type": "stream",
     "text": [
      "Epoch 3/100: 100%|██████████| 469/469 [00:17<00:00, 26.85it/s]\n"
     ]
    },
    {
     "name": "stdout",
     "output_type": "stream",
     "text": [
      "Epoch 3: val_loss=0.0277, val_acc=99.15\n"
     ]
    },
    {
     "name": "stderr",
     "output_type": "stream",
     "text": [
      "Epoch 4/100: 100%|██████████| 469/469 [00:17<00:00, 26.75it/s]\n"
     ]
    },
    {
     "name": "stdout",
     "output_type": "stream",
     "text": [
      "Epoch 4: val_loss=0.0319, val_acc=98.98\n"
     ]
    },
    {
     "name": "stderr",
     "output_type": "stream",
     "text": [
      "Epoch 5/100: 100%|██████████| 469/469 [00:17<00:00, 26.42it/s]\n"
     ]
    },
    {
     "name": "stdout",
     "output_type": "stream",
     "text": [
      "Epoch 5: val_loss=0.0225, val_acc=99.22\n"
     ]
    },
    {
     "name": "stderr",
     "output_type": "stream",
     "text": [
      "Epoch 6/100: 100%|██████████| 469/469 [00:17<00:00, 26.69it/s]\n"
     ]
    },
    {
     "name": "stdout",
     "output_type": "stream",
     "text": [
      "Epoch 6: val_loss=0.0244, val_acc=99.16\n"
     ]
    },
    {
     "name": "stderr",
     "output_type": "stream",
     "text": [
      "Epoch 7/100: 100%|██████████| 469/469 [00:17<00:00, 26.23it/s]\n"
     ]
    },
    {
     "name": "stdout",
     "output_type": "stream",
     "text": [
      "Epoch 7: val_loss=0.0188, val_acc=99.31\n"
     ]
    },
    {
     "name": "stderr",
     "output_type": "stream",
     "text": [
      "Epoch 8/100: 100%|██████████| 469/469 [00:17<00:00, 26.95it/s]\n"
     ]
    },
    {
     "name": "stdout",
     "output_type": "stream",
     "text": [
      "Epoch 8: val_loss=0.0181, val_acc=99.36\n"
     ]
    },
    {
     "name": "stderr",
     "output_type": "stream",
     "text": [
      "Epoch 9/100: 100%|██████████| 469/469 [00:17<00:00, 26.92it/s]\n"
     ]
    },
    {
     "name": "stdout",
     "output_type": "stream",
     "text": [
      "Epoch 9: val_loss=0.0173, val_acc=99.42\n"
     ]
    },
    {
     "name": "stderr",
     "output_type": "stream",
     "text": [
      "Epoch 10/100: 100%|██████████| 469/469 [00:17<00:00, 26.79it/s]\n"
     ]
    },
    {
     "name": "stdout",
     "output_type": "stream",
     "text": [
      "Epoch 10: val_loss=0.0163, val_acc=99.52\n"
     ]
    },
    {
     "name": "stderr",
     "output_type": "stream",
     "text": [
      "Epoch 11/100: 100%|██████████| 469/469 [00:17<00:00, 26.84it/s]\n"
     ]
    },
    {
     "name": "stdout",
     "output_type": "stream",
     "text": [
      "Epoch 11: val_loss=0.0153, val_acc=99.46\n"
     ]
    },
    {
     "name": "stderr",
     "output_type": "stream",
     "text": [
      "Epoch 12/100: 100%|██████████| 469/469 [00:17<00:00, 26.81it/s]\n"
     ]
    },
    {
     "name": "stdout",
     "output_type": "stream",
     "text": [
      "Epoch 12: val_loss=0.0132, val_acc=99.51\n"
     ]
    },
    {
     "name": "stderr",
     "output_type": "stream",
     "text": [
      "Epoch 13/100: 100%|██████████| 469/469 [00:17<00:00, 26.64it/s]\n"
     ]
    },
    {
     "name": "stdout",
     "output_type": "stream",
     "text": [
      "Epoch 13: val_loss=0.0137, val_acc=99.50\n"
     ]
    },
    {
     "name": "stderr",
     "output_type": "stream",
     "text": [
      "Epoch 14/100: 100%|██████████| 469/469 [00:17<00:00, 26.86it/s]\n"
     ]
    },
    {
     "name": "stdout",
     "output_type": "stream",
     "text": [
      "Epoch 14: val_loss=0.0147, val_acc=99.56\n"
     ]
    },
    {
     "name": "stderr",
     "output_type": "stream",
     "text": [
      "Epoch 15/100: 100%|██████████| 469/469 [00:17<00:00, 26.56it/s]\n"
     ]
    },
    {
     "name": "stdout",
     "output_type": "stream",
     "text": [
      "Epoch 15: val_loss=0.0122, val_acc=99.56\n"
     ]
    },
    {
     "name": "stderr",
     "output_type": "stream",
     "text": [
      "Epoch 16/100: 100%|██████████| 469/469 [00:17<00:00, 26.63it/s]\n"
     ]
    },
    {
     "name": "stdout",
     "output_type": "stream",
     "text": [
      "Epoch 16: val_loss=0.0115, val_acc=99.55\n"
     ]
    },
    {
     "name": "stderr",
     "output_type": "stream",
     "text": [
      "Epoch 17/100: 100%|██████████| 469/469 [00:17<00:00, 26.63it/s]\n"
     ]
    },
    {
     "name": "stdout",
     "output_type": "stream",
     "text": [
      "Epoch 17: val_loss=0.0118, val_acc=99.58\n"
     ]
    },
    {
     "name": "stderr",
     "output_type": "stream",
     "text": [
      "Epoch 18/100: 100%|██████████| 469/469 [00:17<00:00, 26.71it/s]\n"
     ]
    },
    {
     "name": "stdout",
     "output_type": "stream",
     "text": [
      "Epoch 18: val_loss=0.0107, val_acc=99.62\n"
     ]
    },
    {
     "name": "stderr",
     "output_type": "stream",
     "text": [
      "Epoch 19/100: 100%|██████████| 469/469 [00:17<00:00, 26.61it/s]\n"
     ]
    },
    {
     "name": "stdout",
     "output_type": "stream",
     "text": [
      "Epoch 19: val_loss=0.0110, val_acc=99.66\n"
     ]
    },
    {
     "name": "stderr",
     "output_type": "stream",
     "text": [
      "Epoch 20/100: 100%|██████████| 469/469 [00:17<00:00, 26.60it/s]\n"
     ]
    },
    {
     "name": "stdout",
     "output_type": "stream",
     "text": [
      "Epoch 20: val_loss=0.0112, val_acc=99.63\n"
     ]
    },
    {
     "name": "stderr",
     "output_type": "stream",
     "text": [
      "Epoch 21/100: 100%|██████████| 469/469 [00:17<00:00, 26.56it/s]\n"
     ]
    },
    {
     "name": "stdout",
     "output_type": "stream",
     "text": [
      "Epoch 21: val_loss=0.0118, val_acc=99.60\n"
     ]
    },
    {
     "name": "stderr",
     "output_type": "stream",
     "text": [
      "Epoch 22/100: 100%|██████████| 469/469 [00:17<00:00, 26.50it/s]\n"
     ]
    },
    {
     "name": "stdout",
     "output_type": "stream",
     "text": [
      "Epoch 22: val_loss=0.0110, val_acc=99.66\n"
     ]
    },
    {
     "name": "stderr",
     "output_type": "stream",
     "text": [
      "Epoch 23/100: 100%|██████████| 469/469 [00:17<00:00, 26.52it/s]\n"
     ]
    },
    {
     "name": "stdout",
     "output_type": "stream",
     "text": [
      "Epoch 23: val_loss=0.0111, val_acc=99.63\n"
     ]
    },
    {
     "name": "stderr",
     "output_type": "stream",
     "text": [
      "Epoch 24/100: 100%|██████████| 469/469 [00:17<00:00, 26.58it/s]\n"
     ]
    },
    {
     "name": "stdout",
     "output_type": "stream",
     "text": [
      "Epoch 24: val_loss=0.0108, val_acc=99.64\n"
     ]
    },
    {
     "name": "stderr",
     "output_type": "stream",
     "text": [
      "Epoch 25/100: 100%|██████████| 469/469 [00:17<00:00, 26.56it/s]\n"
     ]
    },
    {
     "name": "stdout",
     "output_type": "stream",
     "text": [
      "Epoch 25: val_loss=0.0104, val_acc=99.69\n"
     ]
    },
    {
     "name": "stderr",
     "output_type": "stream",
     "text": [
      "Epoch 26/100: 100%|██████████| 469/469 [00:17<00:00, 26.44it/s]\n"
     ]
    },
    {
     "name": "stdout",
     "output_type": "stream",
     "text": [
      "Epoch 26: val_loss=0.0100, val_acc=99.68\n"
     ]
    },
    {
     "name": "stderr",
     "output_type": "stream",
     "text": [
      "Epoch 27/100: 100%|██████████| 469/469 [00:17<00:00, 26.44it/s]\n"
     ]
    },
    {
     "name": "stdout",
     "output_type": "stream",
     "text": [
      "Epoch 27: val_loss=0.0099, val_acc=99.69\n"
     ]
    },
    {
     "name": "stderr",
     "output_type": "stream",
     "text": [
      "Epoch 28/100: 100%|██████████| 469/469 [00:17<00:00, 26.46it/s]\n"
     ]
    },
    {
     "name": "stdout",
     "output_type": "stream",
     "text": [
      "Epoch 28: val_loss=0.0098, val_acc=99.66\n"
     ]
    },
    {
     "name": "stderr",
     "output_type": "stream",
     "text": [
      "Epoch 29/100: 100%|██████████| 469/469 [00:17<00:00, 26.29it/s]\n"
     ]
    },
    {
     "name": "stdout",
     "output_type": "stream",
     "text": [
      "Epoch 29: val_loss=0.0097, val_acc=99.71\n"
     ]
    },
    {
     "name": "stderr",
     "output_type": "stream",
     "text": [
      "Epoch 30/100: 100%|██████████| 469/469 [00:17<00:00, 26.26it/s]\n"
     ]
    },
    {
     "name": "stdout",
     "output_type": "stream",
     "text": [
      "Epoch 30: val_loss=0.0102, val_acc=99.71\n"
     ]
    },
    {
     "name": "stderr",
     "output_type": "stream",
     "text": [
      "Epoch 31/100: 100%|██████████| 469/469 [00:17<00:00, 26.43it/s]\n"
     ]
    },
    {
     "name": "stdout",
     "output_type": "stream",
     "text": [
      "Epoch 31: val_loss=0.0098, val_acc=99.67\n"
     ]
    },
    {
     "name": "stderr",
     "output_type": "stream",
     "text": [
      "Epoch 32/100: 100%|██████████| 469/469 [00:18<00:00, 25.02it/s]\n"
     ]
    },
    {
     "name": "stdout",
     "output_type": "stream",
     "text": [
      "Epoch 32: val_loss=0.0103, val_acc=99.68\n"
     ]
    },
    {
     "name": "stderr",
     "output_type": "stream",
     "text": [
      "Epoch 33/100: 100%|██████████| 469/469 [00:17<00:00, 26.18it/s]\n"
     ]
    },
    {
     "name": "stdout",
     "output_type": "stream",
     "text": [
      "Epoch 33: val_loss=0.0104, val_acc=99.68\n"
     ]
    },
    {
     "name": "stderr",
     "output_type": "stream",
     "text": [
      "Epoch 34/100: 100%|██████████| 469/469 [00:17<00:00, 26.32it/s]\n"
     ]
    },
    {
     "name": "stdout",
     "output_type": "stream",
     "text": [
      "Epoch 34: val_loss=0.0103, val_acc=99.66\n"
     ]
    },
    {
     "name": "stderr",
     "output_type": "stream",
     "text": [
      "Epoch 35/100: 100%|██████████| 469/469 [00:17<00:00, 26.18it/s]\n"
     ]
    },
    {
     "name": "stdout",
     "output_type": "stream",
     "text": [
      "Epoch 35: val_loss=0.0098, val_acc=99.65\n"
     ]
    },
    {
     "name": "stderr",
     "output_type": "stream",
     "text": [
      "Epoch 36/100: 100%|██████████| 469/469 [00:17<00:00, 26.37it/s]\n"
     ]
    },
    {
     "name": "stdout",
     "output_type": "stream",
     "text": [
      "Epoch 36: val_loss=0.0098, val_acc=99.69\n"
     ]
    },
    {
     "name": "stderr",
     "output_type": "stream",
     "text": [
      "Epoch 37/100: 100%|██████████| 469/469 [00:17<00:00, 26.25it/s]\n"
     ]
    },
    {
     "name": "stdout",
     "output_type": "stream",
     "text": [
      "Epoch 37: val_loss=0.0100, val_acc=99.66\n"
     ]
    },
    {
     "name": "stderr",
     "output_type": "stream",
     "text": [
      "Epoch 38/100: 100%|██████████| 469/469 [00:18<00:00, 25.82it/s]\n"
     ]
    },
    {
     "name": "stdout",
     "output_type": "stream",
     "text": [
      "Epoch 38: val_loss=0.0099, val_acc=99.63\n"
     ]
    },
    {
     "name": "stderr",
     "output_type": "stream",
     "text": [
      "Epoch 39/100: 100%|██████████| 469/469 [00:17<00:00, 26.12it/s]\n"
     ]
    },
    {
     "name": "stdout",
     "output_type": "stream",
     "text": [
      "Epoch 39: val_loss=0.0098, val_acc=99.65\n",
      "Early stopping triggered after 39 epochs! No improvement for 10 epochs.\n",
      "🏃 View run run_20250424_135605 at: http://localhost:5500/#/experiments/386940084818827917/runs/b7cb90cbadcb4d9e95d6b2608afcca79\n",
      "🧪 View experiment at: http://localhost:5500/#/experiments/386940084818827917\n",
      "\n",
      "[RUN] Training config 2/3: {'epochs': 100, 'dropout1': 0.5, 'dropout2': 0.4, 'batch_size': 128, 'learning_rate': 0.0005, 'scheduler_gamma': 0.8, 'scheduler_step': 2, 'weight_decay': 0.0001}\n"
     ]
    },
    {
     "name": "stderr",
     "output_type": "stream",
     "text": [
      "Epoch 1/100: 100%|██████████| 469/469 [00:17<00:00, 26.12it/s]\n"
     ]
    },
    {
     "name": "stdout",
     "output_type": "stream",
     "text": [
      "Epoch 1: val_loss=0.0762, val_acc=97.62\n"
     ]
    },
    {
     "name": "stderr",
     "output_type": "stream",
     "text": [
      "Epoch 2/100: 100%|██████████| 469/469 [00:17<00:00, 26.10it/s]\n"
     ]
    },
    {
     "name": "stdout",
     "output_type": "stream",
     "text": [
      "Epoch 2: val_loss=0.0437, val_acc=98.51\n"
     ]
    },
    {
     "name": "stderr",
     "output_type": "stream",
     "text": [
      "Epoch 3/100: 100%|██████████| 469/469 [00:17<00:00, 26.29it/s]\n"
     ]
    },
    {
     "name": "stdout",
     "output_type": "stream",
     "text": [
      "Epoch 3: val_loss=0.0294, val_acc=99.01\n"
     ]
    },
    {
     "name": "stderr",
     "output_type": "stream",
     "text": [
      "Epoch 4/100: 100%|██████████| 469/469 [00:17<00:00, 26.17it/s]\n"
     ]
    },
    {
     "name": "stdout",
     "output_type": "stream",
     "text": [
      "Epoch 4: val_loss=0.0328, val_acc=98.86\n"
     ]
    },
    {
     "name": "stderr",
     "output_type": "stream",
     "text": [
      "Epoch 5/100: 100%|██████████| 469/469 [00:19<00:00, 24.61it/s]\n"
     ]
    },
    {
     "name": "stdout",
     "output_type": "stream",
     "text": [
      "Epoch 5: val_loss=0.0243, val_acc=99.23\n"
     ]
    },
    {
     "name": "stderr",
     "output_type": "stream",
     "text": [
      "Epoch 6/100: 100%|██████████| 469/469 [00:17<00:00, 26.42it/s]\n"
     ]
    },
    {
     "name": "stdout",
     "output_type": "stream",
     "text": [
      "Epoch 6: val_loss=0.0210, val_acc=99.31\n"
     ]
    },
    {
     "name": "stderr",
     "output_type": "stream",
     "text": [
      "Epoch 7/100: 100%|██████████| 469/469 [00:17<00:00, 26.18it/s]\n"
     ]
    },
    {
     "name": "stdout",
     "output_type": "stream",
     "text": [
      "Epoch 7: val_loss=0.0187, val_acc=99.41\n"
     ]
    },
    {
     "name": "stderr",
     "output_type": "stream",
     "text": [
      "Epoch 8/100: 100%|██████████| 469/469 [00:17<00:00, 26.25it/s]\n"
     ]
    },
    {
     "name": "stdout",
     "output_type": "stream",
     "text": [
      "Epoch 8: val_loss=0.0177, val_acc=99.41\n"
     ]
    },
    {
     "name": "stderr",
     "output_type": "stream",
     "text": [
      "Epoch 9/100: 100%|██████████| 469/469 [00:17<00:00, 26.23it/s]\n"
     ]
    },
    {
     "name": "stdout",
     "output_type": "stream",
     "text": [
      "Epoch 9: val_loss=0.0174, val_acc=99.40\n"
     ]
    },
    {
     "name": "stderr",
     "output_type": "stream",
     "text": [
      "Epoch 10/100: 100%|██████████| 469/469 [00:18<00:00, 26.05it/s]\n"
     ]
    },
    {
     "name": "stdout",
     "output_type": "stream",
     "text": [
      "Epoch 10: val_loss=0.0170, val_acc=99.44\n"
     ]
    },
    {
     "name": "stderr",
     "output_type": "stream",
     "text": [
      "Epoch 11/100: 100%|██████████| 469/469 [00:18<00:00, 25.94it/s]\n"
     ]
    },
    {
     "name": "stdout",
     "output_type": "stream",
     "text": [
      "Epoch 11: val_loss=0.0161, val_acc=99.42\n"
     ]
    },
    {
     "name": "stderr",
     "output_type": "stream",
     "text": [
      "Epoch 12/100: 100%|██████████| 469/469 [00:17<00:00, 26.16it/s]\n"
     ]
    },
    {
     "name": "stdout",
     "output_type": "stream",
     "text": [
      "Epoch 12: val_loss=0.0154, val_acc=99.51\n"
     ]
    },
    {
     "name": "stderr",
     "output_type": "stream",
     "text": [
      "Epoch 13/100: 100%|██████████| 469/469 [00:18<00:00, 25.98it/s]\n"
     ]
    },
    {
     "name": "stdout",
     "output_type": "stream",
     "text": [
      "Epoch 13: val_loss=0.0152, val_acc=99.48\n"
     ]
    },
    {
     "name": "stderr",
     "output_type": "stream",
     "text": [
      "Epoch 14/100: 100%|██████████| 469/469 [00:18<00:00, 25.94it/s]\n"
     ]
    },
    {
     "name": "stdout",
     "output_type": "stream",
     "text": [
      "Epoch 14: val_loss=0.0163, val_acc=99.49\n"
     ]
    },
    {
     "name": "stderr",
     "output_type": "stream",
     "text": [
      "Epoch 15/100: 100%|██████████| 469/469 [00:18<00:00, 26.04it/s]\n"
     ]
    },
    {
     "name": "stdout",
     "output_type": "stream",
     "text": [
      "Epoch 15: val_loss=0.0140, val_acc=99.53\n"
     ]
    },
    {
     "name": "stderr",
     "output_type": "stream",
     "text": [
      "Epoch 16/100: 100%|██████████| 469/469 [00:17<00:00, 26.19it/s]\n"
     ]
    },
    {
     "name": "stdout",
     "output_type": "stream",
     "text": [
      "Epoch 16: val_loss=0.0155, val_acc=99.44\n"
     ]
    },
    {
     "name": "stderr",
     "output_type": "stream",
     "text": [
      "Epoch 17/100: 100%|██████████| 469/469 [00:18<00:00, 25.98it/s]\n"
     ]
    },
    {
     "name": "stdout",
     "output_type": "stream",
     "text": [
      "Epoch 17: val_loss=0.0144, val_acc=99.52\n"
     ]
    },
    {
     "name": "stderr",
     "output_type": "stream",
     "text": [
      "Epoch 18/100: 100%|██████████| 469/469 [00:18<00:00, 25.21it/s]\n"
     ]
    },
    {
     "name": "stdout",
     "output_type": "stream",
     "text": [
      "Epoch 18: val_loss=0.0139, val_acc=99.53\n"
     ]
    },
    {
     "name": "stderr",
     "output_type": "stream",
     "text": [
      "Epoch 19/100: 100%|██████████| 469/469 [00:17<00:00, 26.20it/s]\n"
     ]
    },
    {
     "name": "stdout",
     "output_type": "stream",
     "text": [
      "Epoch 19: val_loss=0.0129, val_acc=99.57\n"
     ]
    },
    {
     "name": "stderr",
     "output_type": "stream",
     "text": [
      "Epoch 20/100: 100%|██████████| 469/469 [00:18<00:00, 25.78it/s]\n"
     ]
    },
    {
     "name": "stdout",
     "output_type": "stream",
     "text": [
      "Epoch 20: val_loss=0.0125, val_acc=99.52\n"
     ]
    },
    {
     "name": "stderr",
     "output_type": "stream",
     "text": [
      "Epoch 21/100: 100%|██████████| 469/469 [00:18<00:00, 24.77it/s]\n"
     ]
    },
    {
     "name": "stdout",
     "output_type": "stream",
     "text": [
      "Epoch 21: val_loss=0.0130, val_acc=99.56\n"
     ]
    },
    {
     "name": "stderr",
     "output_type": "stream",
     "text": [
      "Epoch 22/100: 100%|██████████| 469/469 [00:18<00:00, 25.34it/s]\n"
     ]
    },
    {
     "name": "stdout",
     "output_type": "stream",
     "text": [
      "Epoch 22: val_loss=0.0126, val_acc=99.55\n"
     ]
    },
    {
     "name": "stderr",
     "output_type": "stream",
     "text": [
      "Epoch 23/100: 100%|██████████| 469/469 [00:18<00:00, 25.43it/s]\n"
     ]
    },
    {
     "name": "stdout",
     "output_type": "stream",
     "text": [
      "Epoch 23: val_loss=0.0126, val_acc=99.56\n"
     ]
    },
    {
     "name": "stderr",
     "output_type": "stream",
     "text": [
      "Epoch 24/100: 100%|██████████| 469/469 [00:18<00:00, 25.61it/s]\n"
     ]
    },
    {
     "name": "stdout",
     "output_type": "stream",
     "text": [
      "Epoch 24: val_loss=0.0125, val_acc=99.58\n"
     ]
    },
    {
     "name": "stderr",
     "output_type": "stream",
     "text": [
      "Epoch 25/100: 100%|██████████| 469/469 [00:18<00:00, 25.42it/s]\n"
     ]
    },
    {
     "name": "stdout",
     "output_type": "stream",
     "text": [
      "Epoch 25: val_loss=0.0121, val_acc=99.59\n"
     ]
    },
    {
     "name": "stderr",
     "output_type": "stream",
     "text": [
      "Epoch 26/100: 100%|██████████| 469/469 [00:18<00:00, 25.56it/s]\n"
     ]
    },
    {
     "name": "stdout",
     "output_type": "stream",
     "text": [
      "Epoch 26: val_loss=0.0129, val_acc=99.55\n"
     ]
    },
    {
     "name": "stderr",
     "output_type": "stream",
     "text": [
      "Epoch 27/100: 100%|██████████| 469/469 [00:18<00:00, 24.93it/s]\n"
     ]
    },
    {
     "name": "stdout",
     "output_type": "stream",
     "text": [
      "Epoch 27: val_loss=0.0125, val_acc=99.55\n"
     ]
    },
    {
     "name": "stderr",
     "output_type": "stream",
     "text": [
      "Epoch 28/100: 100%|██████████| 469/469 [00:17<00:00, 26.26it/s]\n"
     ]
    },
    {
     "name": "stdout",
     "output_type": "stream",
     "text": [
      "Epoch 28: val_loss=0.0126, val_acc=99.55\n"
     ]
    },
    {
     "name": "stderr",
     "output_type": "stream",
     "text": [
      "Epoch 29/100: 100%|██████████| 469/469 [00:18<00:00, 25.41it/s]\n"
     ]
    },
    {
     "name": "stdout",
     "output_type": "stream",
     "text": [
      "Epoch 29: val_loss=0.0126, val_acc=99.53\n"
     ]
    },
    {
     "name": "stderr",
     "output_type": "stream",
     "text": [
      "Epoch 30/100: 100%|██████████| 469/469 [00:18<00:00, 25.92it/s]\n"
     ]
    },
    {
     "name": "stdout",
     "output_type": "stream",
     "text": [
      "Epoch 30: val_loss=0.0127, val_acc=99.54\n"
     ]
    },
    {
     "name": "stderr",
     "output_type": "stream",
     "text": [
      "Epoch 31/100: 100%|██████████| 469/469 [00:18<00:00, 25.25it/s]\n"
     ]
    },
    {
     "name": "stdout",
     "output_type": "stream",
     "text": [
      "Epoch 31: val_loss=0.0126, val_acc=99.52\n"
     ]
    },
    {
     "name": "stderr",
     "output_type": "stream",
     "text": [
      "Epoch 32/100: 100%|██████████| 469/469 [00:18<00:00, 25.95it/s]\n"
     ]
    },
    {
     "name": "stdout",
     "output_type": "stream",
     "text": [
      "Epoch 32: val_loss=0.0126, val_acc=99.57\n"
     ]
    },
    {
     "name": "stderr",
     "output_type": "stream",
     "text": [
      "Epoch 33/100: 100%|██████████| 469/469 [00:18<00:00, 25.20it/s]\n"
     ]
    },
    {
     "name": "stdout",
     "output_type": "stream",
     "text": [
      "Epoch 33: val_loss=0.0127, val_acc=99.57\n"
     ]
    },
    {
     "name": "stderr",
     "output_type": "stream",
     "text": [
      "Epoch 34/100: 100%|██████████| 469/469 [00:18<00:00, 26.04it/s]\n"
     ]
    },
    {
     "name": "stdout",
     "output_type": "stream",
     "text": [
      "Epoch 34: val_loss=0.0121, val_acc=99.53\n"
     ]
    },
    {
     "name": "stderr",
     "output_type": "stream",
     "text": [
      "Epoch 35/100: 100%|██████████| 469/469 [00:18<00:00, 24.78it/s]\n"
     ]
    },
    {
     "name": "stdout",
     "output_type": "stream",
     "text": [
      "Epoch 35: val_loss=0.0122, val_acc=99.56\n",
      "Early stopping triggered after 35 epochs! No improvement for 10 epochs.\n",
      "🏃 View run run_20250424_135605 at: http://localhost:5500/#/experiments/386940084818827917/runs/617ae605eb5c45a5acf10ea5d1e0cd2a\n",
      "🧪 View experiment at: http://localhost:5500/#/experiments/386940084818827917\n",
      "\n",
      "[RUN] Training config 3/3: {'epochs': 100, 'dropout1': 0.6, 'dropout2': 0.5, 'batch_size': 128, 'learning_rate': 0.002, 'scheduler_gamma': 0.8, 'scheduler_step': 2, 'weight_decay': 0.0001}\n"
     ]
    },
    {
     "name": "stderr",
     "output_type": "stream",
     "text": [
      "Epoch 1/100: 100%|██████████| 469/469 [00:18<00:00, 26.04it/s]\n"
     ]
    },
    {
     "name": "stdout",
     "output_type": "stream",
     "text": [
      "Epoch 1: val_loss=0.0712, val_acc=97.73\n"
     ]
    },
    {
     "name": "stderr",
     "output_type": "stream",
     "text": [
      "Epoch 2/100: 100%|██████████| 469/469 [00:18<00:00, 25.83it/s]\n"
     ]
    },
    {
     "name": "stdout",
     "output_type": "stream",
     "text": [
      "Epoch 2: val_loss=0.0458, val_acc=98.59\n"
     ]
    },
    {
     "name": "stderr",
     "output_type": "stream",
     "text": [
      "Epoch 3/100: 100%|██████████| 469/469 [00:18<00:00, 25.37it/s]\n"
     ]
    },
    {
     "name": "stdout",
     "output_type": "stream",
     "text": [
      "Epoch 3: val_loss=0.0378, val_acc=98.83\n"
     ]
    },
    {
     "name": "stderr",
     "output_type": "stream",
     "text": [
      "Epoch 4/100: 100%|██████████| 469/469 [00:17<00:00, 26.13it/s]\n"
     ]
    },
    {
     "name": "stdout",
     "output_type": "stream",
     "text": [
      "Epoch 4: val_loss=0.0420, val_acc=98.68\n"
     ]
    },
    {
     "name": "stderr",
     "output_type": "stream",
     "text": [
      "Epoch 5/100: 100%|██████████| 469/469 [00:17<00:00, 26.15it/s]\n"
     ]
    },
    {
     "name": "stdout",
     "output_type": "stream",
     "text": [
      "Epoch 5: val_loss=0.0258, val_acc=99.15\n"
     ]
    },
    {
     "name": "stderr",
     "output_type": "stream",
     "text": [
      "Epoch 6/100: 100%|██████████| 469/469 [00:18<00:00, 26.00it/s]\n"
     ]
    },
    {
     "name": "stdout",
     "output_type": "stream",
     "text": [
      "Epoch 6: val_loss=0.0278, val_acc=99.13\n"
     ]
    },
    {
     "name": "stderr",
     "output_type": "stream",
     "text": [
      "Epoch 7/100: 100%|██████████| 469/469 [00:18<00:00, 25.36it/s]\n"
     ]
    },
    {
     "name": "stdout",
     "output_type": "stream",
     "text": [
      "Epoch 7: val_loss=0.0233, val_acc=99.21\n"
     ]
    },
    {
     "name": "stderr",
     "output_type": "stream",
     "text": [
      "Epoch 8/100: 100%|██████████| 469/469 [00:17<00:00, 26.06it/s]\n"
     ]
    },
    {
     "name": "stdout",
     "output_type": "stream",
     "text": [
      "Epoch 8: val_loss=0.0314, val_acc=98.84\n"
     ]
    },
    {
     "name": "stderr",
     "output_type": "stream",
     "text": [
      "Epoch 9/100: 100%|██████████| 469/469 [00:17<00:00, 26.12it/s]\n"
     ]
    },
    {
     "name": "stdout",
     "output_type": "stream",
     "text": [
      "Epoch 9: val_loss=0.0193, val_acc=99.30\n"
     ]
    },
    {
     "name": "stderr",
     "output_type": "stream",
     "text": [
      "Epoch 10/100: 100%|██████████| 469/469 [00:18<00:00, 26.03it/s]\n"
     ]
    },
    {
     "name": "stdout",
     "output_type": "stream",
     "text": [
      "Epoch 10: val_loss=0.0232, val_acc=99.20\n"
     ]
    },
    {
     "name": "stderr",
     "output_type": "stream",
     "text": [
      "Epoch 11/100: 100%|██████████| 469/469 [00:18<00:00, 25.59it/s]\n"
     ]
    },
    {
     "name": "stdout",
     "output_type": "stream",
     "text": [
      "Epoch 11: val_loss=0.0202, val_acc=99.39\n"
     ]
    },
    {
     "name": "stderr",
     "output_type": "stream",
     "text": [
      "Epoch 12/100: 100%|██████████| 469/469 [00:18<00:00, 26.01it/s]\n"
     ]
    },
    {
     "name": "stdout",
     "output_type": "stream",
     "text": [
      "Epoch 12: val_loss=0.0188, val_acc=99.33\n"
     ]
    },
    {
     "name": "stderr",
     "output_type": "stream",
     "text": [
      "Epoch 13/100: 100%|██████████| 469/469 [00:18<00:00, 25.64it/s]\n"
     ]
    },
    {
     "name": "stdout",
     "output_type": "stream",
     "text": [
      "Epoch 13: val_loss=0.0174, val_acc=99.49\n"
     ]
    },
    {
     "name": "stderr",
     "output_type": "stream",
     "text": [
      "Epoch 14/100: 100%|██████████| 469/469 [00:18<00:00, 26.02it/s]\n"
     ]
    },
    {
     "name": "stdout",
     "output_type": "stream",
     "text": [
      "Epoch 14: val_loss=0.0184, val_acc=99.40\n"
     ]
    },
    {
     "name": "stderr",
     "output_type": "stream",
     "text": [
      "Epoch 15/100: 100%|██████████| 469/469 [00:18<00:00, 25.72it/s]\n"
     ]
    },
    {
     "name": "stdout",
     "output_type": "stream",
     "text": [
      "Epoch 15: val_loss=0.0152, val_acc=99.48\n"
     ]
    },
    {
     "name": "stderr",
     "output_type": "stream",
     "text": [
      "Epoch 16/100: 100%|██████████| 469/469 [00:18<00:00, 25.83it/s]\n"
     ]
    },
    {
     "name": "stdout",
     "output_type": "stream",
     "text": [
      "Epoch 16: val_loss=0.0164, val_acc=99.46\n"
     ]
    },
    {
     "name": "stderr",
     "output_type": "stream",
     "text": [
      "Epoch 17/100: 100%|██████████| 469/469 [00:18<00:00, 25.24it/s]\n"
     ]
    },
    {
     "name": "stdout",
     "output_type": "stream",
     "text": [
      "Epoch 17: val_loss=0.0151, val_acc=99.53\n"
     ]
    },
    {
     "name": "stderr",
     "output_type": "stream",
     "text": [
      "Epoch 18/100: 100%|██████████| 469/469 [00:17<00:00, 26.23it/s]\n"
     ]
    },
    {
     "name": "stdout",
     "output_type": "stream",
     "text": [
      "Epoch 18: val_loss=0.0159, val_acc=99.51\n"
     ]
    },
    {
     "name": "stderr",
     "output_type": "stream",
     "text": [
      "Epoch 19/100: 100%|██████████| 469/469 [00:18<00:00, 25.65it/s]\n"
     ]
    },
    {
     "name": "stdout",
     "output_type": "stream",
     "text": [
      "Epoch 19: val_loss=0.0148, val_acc=99.49\n"
     ]
    },
    {
     "name": "stderr",
     "output_type": "stream",
     "text": [
      "Epoch 20/100: 100%|██████████| 469/469 [00:44<00:00, 10.54it/s]\n"
     ]
    },
    {
     "name": "stdout",
     "output_type": "stream",
     "text": [
      "Epoch 20: val_loss=0.0141, val_acc=99.56\n"
     ]
    },
    {
     "name": "stderr",
     "output_type": "stream",
     "text": [
      "Epoch 21/100: 100%|██████████| 469/469 [00:17<00:00, 26.67it/s]\n"
     ]
    },
    {
     "name": "stdout",
     "output_type": "stream",
     "text": [
      "Epoch 21: val_loss=0.0132, val_acc=99.59\n"
     ]
    },
    {
     "name": "stderr",
     "output_type": "stream",
     "text": [
      "Epoch 22/100: 100%|██████████| 469/469 [00:17<00:00, 26.61it/s]\n"
     ]
    },
    {
     "name": "stdout",
     "output_type": "stream",
     "text": [
      "Epoch 22: val_loss=0.0126, val_acc=99.57\n"
     ]
    },
    {
     "name": "stderr",
     "output_type": "stream",
     "text": [
      "Epoch 23/100: 100%|██████████| 469/469 [00:18<00:00, 25.95it/s]\n"
     ]
    },
    {
     "name": "stdout",
     "output_type": "stream",
     "text": [
      "Epoch 23: val_loss=0.0124, val_acc=99.56\n"
     ]
    },
    {
     "name": "stderr",
     "output_type": "stream",
     "text": [
      "Epoch 24/100: 100%|██████████| 469/469 [00:17<00:00, 26.43it/s]\n"
     ]
    },
    {
     "name": "stdout",
     "output_type": "stream",
     "text": [
      "Epoch 24: val_loss=0.0129, val_acc=99.63\n"
     ]
    },
    {
     "name": "stderr",
     "output_type": "stream",
     "text": [
      "Epoch 25/100: 100%|██████████| 469/469 [00:17<00:00, 26.44it/s]\n"
     ]
    },
    {
     "name": "stdout",
     "output_type": "stream",
     "text": [
      "Epoch 25: val_loss=0.0130, val_acc=99.53\n"
     ]
    },
    {
     "name": "stderr",
     "output_type": "stream",
     "text": [
      "Epoch 26/100: 100%|██████████| 469/469 [00:17<00:00, 26.37it/s]\n"
     ]
    },
    {
     "name": "stdout",
     "output_type": "stream",
     "text": [
      "Epoch 26: val_loss=0.0118, val_acc=99.58\n"
     ]
    },
    {
     "name": "stderr",
     "output_type": "stream",
     "text": [
      "Epoch 27/100: 100%|██████████| 469/469 [00:17<00:00, 26.29it/s]\n"
     ]
    },
    {
     "name": "stdout",
     "output_type": "stream",
     "text": [
      "Epoch 27: val_loss=0.0123, val_acc=99.59\n"
     ]
    },
    {
     "name": "stderr",
     "output_type": "stream",
     "text": [
      "Epoch 28/100: 100%|██████████| 469/469 [00:17<00:00, 26.23it/s]\n"
     ]
    },
    {
     "name": "stdout",
     "output_type": "stream",
     "text": [
      "Epoch 28: val_loss=0.0116, val_acc=99.62\n"
     ]
    },
    {
     "name": "stderr",
     "output_type": "stream",
     "text": [
      "Epoch 29/100: 100%|██████████| 469/469 [00:17<00:00, 26.28it/s]\n"
     ]
    },
    {
     "name": "stdout",
     "output_type": "stream",
     "text": [
      "Epoch 29: val_loss=0.0117, val_acc=99.59\n"
     ]
    },
    {
     "name": "stderr",
     "output_type": "stream",
     "text": [
      "Epoch 30/100: 100%|██████████| 469/469 [00:17<00:00, 26.31it/s]\n"
     ]
    },
    {
     "name": "stdout",
     "output_type": "stream",
     "text": [
      "Epoch 30: val_loss=0.0120, val_acc=99.64\n"
     ]
    },
    {
     "name": "stderr",
     "output_type": "stream",
     "text": [
      "Epoch 31/100: 100%|██████████| 469/469 [00:17<00:00, 26.42it/s]\n"
     ]
    },
    {
     "name": "stdout",
     "output_type": "stream",
     "text": [
      "Epoch 31: val_loss=0.0120, val_acc=99.62\n"
     ]
    },
    {
     "name": "stderr",
     "output_type": "stream",
     "text": [
      "Epoch 32/100: 100%|██████████| 469/469 [00:17<00:00, 26.33it/s]\n"
     ]
    },
    {
     "name": "stdout",
     "output_type": "stream",
     "text": [
      "Epoch 32: val_loss=0.0116, val_acc=99.63\n"
     ]
    },
    {
     "name": "stderr",
     "output_type": "stream",
     "text": [
      "Epoch 33/100: 100%|██████████| 469/469 [00:17<00:00, 26.18it/s]\n"
     ]
    },
    {
     "name": "stdout",
     "output_type": "stream",
     "text": [
      "Epoch 33: val_loss=0.0114, val_acc=99.64\n"
     ]
    },
    {
     "name": "stderr",
     "output_type": "stream",
     "text": [
      "Epoch 34/100: 100%|██████████| 469/469 [00:17<00:00, 26.21it/s]\n"
     ]
    },
    {
     "name": "stdout",
     "output_type": "stream",
     "text": [
      "Epoch 34: val_loss=0.0112, val_acc=99.60\n"
     ]
    },
    {
     "name": "stderr",
     "output_type": "stream",
     "text": [
      "Epoch 35/100: 100%|██████████| 469/469 [00:17<00:00, 26.19it/s]\n"
     ]
    },
    {
     "name": "stdout",
     "output_type": "stream",
     "text": [
      "Epoch 35: val_loss=0.0116, val_acc=99.62\n"
     ]
    },
    {
     "name": "stderr",
     "output_type": "stream",
     "text": [
      "Epoch 36/100: 100%|██████████| 469/469 [00:17<00:00, 26.13it/s]\n"
     ]
    },
    {
     "name": "stdout",
     "output_type": "stream",
     "text": [
      "Epoch 36: val_loss=0.0113, val_acc=99.63\n"
     ]
    },
    {
     "name": "stderr",
     "output_type": "stream",
     "text": [
      "Epoch 37/100: 100%|██████████| 469/469 [00:17<00:00, 26.19it/s]\n"
     ]
    },
    {
     "name": "stdout",
     "output_type": "stream",
     "text": [
      "Epoch 37: val_loss=0.0112, val_acc=99.62\n"
     ]
    },
    {
     "name": "stderr",
     "output_type": "stream",
     "text": [
      "Epoch 38/100: 100%|██████████| 469/469 [00:17<00:00, 26.11it/s]\n"
     ]
    },
    {
     "name": "stdout",
     "output_type": "stream",
     "text": [
      "Epoch 38: val_loss=0.0109, val_acc=99.66\n"
     ]
    },
    {
     "name": "stderr",
     "output_type": "stream",
     "text": [
      "Epoch 39/100: 100%|██████████| 469/469 [00:18<00:00, 25.95it/s]\n"
     ]
    },
    {
     "name": "stdout",
     "output_type": "stream",
     "text": [
      "Epoch 39: val_loss=0.0111, val_acc=99.63\n"
     ]
    },
    {
     "name": "stderr",
     "output_type": "stream",
     "text": [
      "Epoch 40/100: 100%|██████████| 469/469 [00:17<00:00, 26.15it/s]\n"
     ]
    },
    {
     "name": "stdout",
     "output_type": "stream",
     "text": [
      "Epoch 40: val_loss=0.0111, val_acc=99.65\n"
     ]
    },
    {
     "name": "stderr",
     "output_type": "stream",
     "text": [
      "Epoch 41/100: 100%|██████████| 469/469 [00:17<00:00, 26.10it/s]\n"
     ]
    },
    {
     "name": "stdout",
     "output_type": "stream",
     "text": [
      "Epoch 41: val_loss=0.0111, val_acc=99.67\n"
     ]
    },
    {
     "name": "stderr",
     "output_type": "stream",
     "text": [
      "Epoch 42/100: 100%|██████████| 469/469 [00:17<00:00, 26.14it/s]\n"
     ]
    },
    {
     "name": "stdout",
     "output_type": "stream",
     "text": [
      "Epoch 42: val_loss=0.0112, val_acc=99.66\n"
     ]
    },
    {
     "name": "stderr",
     "output_type": "stream",
     "text": [
      "Epoch 43/100: 100%|██████████| 469/469 [00:17<00:00, 26.12it/s]\n"
     ]
    },
    {
     "name": "stdout",
     "output_type": "stream",
     "text": [
      "Epoch 43: val_loss=0.0110, val_acc=99.63\n"
     ]
    },
    {
     "name": "stderr",
     "output_type": "stream",
     "text": [
      "Epoch 44/100: 100%|██████████| 469/469 [00:17<00:00, 26.10it/s]\n"
     ]
    },
    {
     "name": "stdout",
     "output_type": "stream",
     "text": [
      "Epoch 44: val_loss=0.0108, val_acc=99.67\n"
     ]
    },
    {
     "name": "stderr",
     "output_type": "stream",
     "text": [
      "Epoch 45/100: 100%|██████████| 469/469 [00:18<00:00, 26.03it/s]\n"
     ]
    },
    {
     "name": "stdout",
     "output_type": "stream",
     "text": [
      "Epoch 45: val_loss=0.0110, val_acc=99.62\n"
     ]
    },
    {
     "name": "stderr",
     "output_type": "stream",
     "text": [
      "Epoch 46/100: 100%|██████████| 469/469 [00:17<00:00, 26.17it/s]\n"
     ]
    },
    {
     "name": "stdout",
     "output_type": "stream",
     "text": [
      "Epoch 46: val_loss=0.0112, val_acc=99.64\n"
     ]
    },
    {
     "name": "stderr",
     "output_type": "stream",
     "text": [
      "Epoch 47/100: 100%|██████████| 469/469 [00:17<00:00, 26.14it/s]\n"
     ]
    },
    {
     "name": "stdout",
     "output_type": "stream",
     "text": [
      "Epoch 47: val_loss=0.0110, val_acc=99.64\n"
     ]
    },
    {
     "name": "stderr",
     "output_type": "stream",
     "text": [
      "Epoch 48/100: 100%|██████████| 469/469 [00:17<00:00, 26.09it/s]\n"
     ]
    },
    {
     "name": "stdout",
     "output_type": "stream",
     "text": [
      "Epoch 48: val_loss=0.0109, val_acc=99.63\n",
      "Early stopping triggered after 48 epochs! No improvement for 10 epochs.\n",
      "🏃 View run run_20250424_135605 at: http://localhost:5500/#/experiments/386940084818827917/runs/a8418ffe7c494db0b20c6ff8df113ea8\n",
      "🧪 View experiment at: http://localhost:5500/#/experiments/386940084818827917\n"
     ]
    }
   ],
   "source": [
    "# main\n",
    "print(\"=\" * 50)\n",
    "print(EXPERIMENT_NAME.upper(), \"RUN NAME: \", RUN_NAME.upper())\n",
    "print(\"=\" * 50)\n",
    "seed_everything(42)\n",
    "\n",
    "param_grid = [\n",
    "    {\n",
    "        \"epochs\": 100,\n",
    "        \"dropout1\": 0.3,      # Lower dropout rate in first layer\n",
    "        \"dropout2\": 0.2,      # Lower dropout rate in second layer\n",
    "        \"batch_size\": 128,\n",
    "        \"learning_rate\": 0.001,\n",
    "        \"scheduler_gamma\": 0.8,\n",
    "        \"scheduler_step\": 2,\n",
    "        \"weight_decay\": 0.0001,\n",
    "    },\n",
    "    {\n",
    "        \"epochs\": 100,\n",
    "        \"dropout1\": 0.5,      # Original dropout rate\n",
    "        \"dropout2\": 0.4,      # Original dropout rate\n",
    "        \"batch_size\": 128,\n",
    "        \"learning_rate\": 0.0005,  # Lower learning rate\n",
    "        \"scheduler_gamma\": 0.8,\n",
    "        \"scheduler_step\": 2,\n",
    "        \"weight_decay\": 0.0001,\n",
    "    },\n",
    "    {\n",
    "        \"epochs\": 100,\n",
    "        \"dropout1\": 0.6,      # Higher dropout rate\n",
    "        \"dropout2\": 0.5,      # Higher dropout rate\n",
    "        \"batch_size\": 128,\n",
    "        \"learning_rate\": 0.002,   # Higher learning rate\n",
    "        \"scheduler_gamma\": 0.8,\n",
    "        \"scheduler_step\": 2,\n",
    "        \"weight_decay\": 0.0001,\n",
    "    },\n",
    "]\n",
    "\n",
    "for i, params in enumerate(param_grid):\n",
    "    print(f\"\\n[RUN] Training config {i+1}/{len(param_grid)}: {params}\")\n",
    "    run_training_pipeline(params)"
   ]
  }
 ],
 "metadata": {
  "kernelspec": {
   "display_name": "bvenv",
   "language": "python",
   "name": "python3"
  },
  "language_info": {
   "codemirror_mode": {
    "name": "ipython",
    "version": 3
   },
   "file_extension": ".py",
   "mimetype": "text/x-python",
   "name": "python",
   "nbconvert_exporter": "python",
   "pygments_lexer": "ipython3",
   "version": "3.12.5"
  }
 },
 "nbformat": 4,
 "nbformat_minor": 5
}
